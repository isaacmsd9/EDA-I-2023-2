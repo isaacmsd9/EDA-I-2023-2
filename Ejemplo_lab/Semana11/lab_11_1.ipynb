{
 "cells": [
  {
   "cell_type": "code",
   "execution_count": 10,
   "metadata": {},
   "outputs": [],
   "source": [
    "def factorial_no_recursivo(numero):\n",
    "    fact = 1\n",
    "    #Se genera una lista que va de 0 a 1, el -1 indica que cada iteración se resta 1 al indice\n",
    "    for i in range(numero, 1, -1):\n",
    "        fact *= i # Esto es equivalente a fact = fact + 1\n",
    "    return fact"
   ]
  },
  {
   "cell_type": "code",
   "execution_count": 11,
   "metadata": {},
   "outputs": [
    {
     "data": {
      "text/plain": [
       "120"
      ]
     },
     "execution_count": 11,
     "metadata": {},
     "output_type": "execute_result"
    }
   ],
   "source": [
    "factorial_no_recursivo(5)"
   ]
  },
  {
   "cell_type": "code",
   "execution_count": 13,
   "metadata": {},
   "outputs": [],
   "source": [
    "def factorial_recursivo(numero):\n",
    "    if numero < 2:\n",
    "        return 1\n",
    "    return numero * factorial_recursivo(numero -1 )\n",
    "\n",
    "    print(factorial_recursivo(5)) "
   ]
  },
  {
   "cell_type": "code",
   "execution_count": 16,
   "metadata": {},
   "outputs": [
    {
     "data": {
      "text/plain": [
       "1485715964481761497309522733620825737885569961284688766942216863704985393094065876545992131370884059645617234469978112000000000000000000000"
      ]
     },
     "execution_count": 16,
     "metadata": {},
     "output_type": "execute_result"
    }
   ],
   "source": [
    "factorial_recursivo(90)"
   ]
  },
  {
   "cell_type": "code",
   "execution_count": 18,
   "metadata": {},
   "outputs": [
    {
     "name": "stdout",
     "output_type": "stream",
     "text": [
      "Secuela Fibonacci:\n",
      "0\n",
      "1\n",
      "1\n",
      "2\n",
      "3\n",
      "5\n",
      "8\n",
      "13\n",
      "21\n",
      "34\n",
      "55\n",
      "89\n",
      "144\n",
      "233\n",
      "377\n",
      "610\n"
     ]
    }
   ],
   "source": [
    "def recur_fibo(n):\n",
    "    if n <= 1:\n",
    "        return n\n",
    "    else:\n",
    "        return(recur_fibo(n-1) + recur_fibo(n-2))\n",
    "\n",
    "nterms = 16\n",
    "\n",
    "if nterms <= 0:\n",
    "    print(\"Ingrese un entero positivo\")\n",
    "else:\n",
    "    print(\"Secuela Fibonacci:\")\n",
    "    for i in range(nterms):\n",
    "        print(recur_fibo(i))"
   ]
  },
  {
   "cell_type": "code",
   "execution_count": 20,
   "metadata": {},
   "outputs": [
    {
     "name": "stdout",
     "output_type": "stream",
     "text": [
      "%pylab is deprecated, use %matplotlib inline and import the required libraries.\n",
      "Populating the interactive namespace from numpy and matplotlib\n"
     ]
    }
   ],
   "source": [
    "%pylab inline"
   ]
  },
  {
   "cell_type": "code",
   "execution_count": 1,
   "metadata": {},
   "outputs": [
    {
     "ename": "TclError",
     "evalue": "no display name and no $DISPLAY environment variable",
     "output_type": "error",
     "traceback": [
      "\u001b[0;31m---------------------------------------------------------------------------\u001b[0m",
      "\u001b[0;31mTclError\u001b[0m                                  Traceback (most recent call last)",
      "Cell \u001b[0;32mIn[1], line 2\u001b[0m\n\u001b[1;32m      1\u001b[0m \u001b[39mimport\u001b[39;00m \u001b[39mturtle\u001b[39;00m\n\u001b[0;32m----> 2\u001b[0m wn \u001b[39m=\u001b[39m turtle\u001b[39m.\u001b[39;49mScreen()\n\u001b[1;32m      3\u001b[0m wn\u001b[39m.\u001b[39mbgcolor(\u001b[39m\"\u001b[39m\u001b[39mlightgreen\u001b[39m\u001b[39m\"\u001b[39m)\n\u001b[1;32m      4\u001b[0m tess \u001b[39m=\u001b[39m turtle\u001b[39m.\u001b[39mTurtle()\n",
      "File \u001b[0;32m~/.pyenv/versions/3.11.1/lib/python3.11/turtle.py:3680\u001b[0m, in \u001b[0;36mScreen\u001b[0;34m()\u001b[0m\n\u001b[1;32m   3676\u001b[0m \u001b[39m\u001b[39m\u001b[39m\"\"\"Return the singleton screen object.\u001b[39;00m\n\u001b[1;32m   3677\u001b[0m \u001b[39mIf none exists at the moment, create a new one and return it,\u001b[39;00m\n\u001b[1;32m   3678\u001b[0m \u001b[39melse return the existing one.\"\"\"\u001b[39;00m\n\u001b[1;32m   3679\u001b[0m \u001b[39mif\u001b[39;00m Turtle\u001b[39m.\u001b[39m_screen \u001b[39mis\u001b[39;00m \u001b[39mNone\u001b[39;00m:\n\u001b[0;32m-> 3680\u001b[0m     Turtle\u001b[39m.\u001b[39m_screen \u001b[39m=\u001b[39m _Screen()\n\u001b[1;32m   3681\u001b[0m \u001b[39mreturn\u001b[39;00m Turtle\u001b[39m.\u001b[39m_screen\n",
      "File \u001b[0;32m~/.pyenv/versions/3.11.1/lib/python3.11/turtle.py:3696\u001b[0m, in \u001b[0;36m_Screen.__init__\u001b[0;34m(self)\u001b[0m\n\u001b[1;32m   3689\u001b[0m \u001b[39mdef\u001b[39;00m \u001b[39m__init__\u001b[39m(\u001b[39mself\u001b[39m):\n\u001b[1;32m   3690\u001b[0m     \u001b[39m# XXX there is no need for this code to be conditional,\u001b[39;00m\n\u001b[1;32m   3691\u001b[0m     \u001b[39m# as there will be only a single _Screen instance, anyway\u001b[39;00m\n\u001b[1;32m   3692\u001b[0m     \u001b[39m# XXX actually, the turtle demo is injecting root window,\u001b[39;00m\n\u001b[1;32m   3693\u001b[0m     \u001b[39m# so perhaps the conditional creation of a root should be\u001b[39;00m\n\u001b[1;32m   3694\u001b[0m     \u001b[39m# preserved (perhaps by passing it as an optional parameter)\u001b[39;00m\n\u001b[1;32m   3695\u001b[0m     \u001b[39mif\u001b[39;00m _Screen\u001b[39m.\u001b[39m_root \u001b[39mis\u001b[39;00m \u001b[39mNone\u001b[39;00m:\n\u001b[0;32m-> 3696\u001b[0m         _Screen\u001b[39m.\u001b[39m_root \u001b[39m=\u001b[39m \u001b[39mself\u001b[39m\u001b[39m.\u001b[39m_root \u001b[39m=\u001b[39m _Root()\n\u001b[1;32m   3697\u001b[0m         \u001b[39mself\u001b[39m\u001b[39m.\u001b[39m_root\u001b[39m.\u001b[39mtitle(_Screen\u001b[39m.\u001b[39m_title)\n\u001b[1;32m   3698\u001b[0m         \u001b[39mself\u001b[39m\u001b[39m.\u001b[39m_root\u001b[39m.\u001b[39mondestroy(\u001b[39mself\u001b[39m\u001b[39m.\u001b[39m_destroy)\n",
      "File \u001b[0;32m~/.pyenv/versions/3.11.1/lib/python3.11/turtle.py:436\u001b[0m, in \u001b[0;36m_Root.__init__\u001b[0;34m(self)\u001b[0m\n\u001b[1;32m    435\u001b[0m \u001b[39mdef\u001b[39;00m \u001b[39m__init__\u001b[39m(\u001b[39mself\u001b[39m):\n\u001b[0;32m--> 436\u001b[0m     TK\u001b[39m.\u001b[39;49mTk\u001b[39m.\u001b[39;49m\u001b[39m__init__\u001b[39;49m(\u001b[39mself\u001b[39;49m)\n",
      "File \u001b[0;32m~/.pyenv/versions/3.11.1/lib/python3.11/tkinter/__init__.py:2326\u001b[0m, in \u001b[0;36mTk.__init__\u001b[0;34m(self, screenName, baseName, className, useTk, sync, use)\u001b[0m\n\u001b[1;32m   2324\u001b[0m         baseName \u001b[39m=\u001b[39m baseName \u001b[39m+\u001b[39m ext\n\u001b[1;32m   2325\u001b[0m interactive \u001b[39m=\u001b[39m \u001b[39mFalse\u001b[39;00m\n\u001b[0;32m-> 2326\u001b[0m \u001b[39mself\u001b[39m\u001b[39m.\u001b[39mtk \u001b[39m=\u001b[39m _tkinter\u001b[39m.\u001b[39;49mcreate(screenName, baseName, className, interactive, wantobjects, useTk, sync, use)\n\u001b[1;32m   2327\u001b[0m \u001b[39mif\u001b[39;00m useTk:\n\u001b[1;32m   2328\u001b[0m     \u001b[39mself\u001b[39m\u001b[39m.\u001b[39m_loadtk()\n",
      "\u001b[0;31mTclError\u001b[0m: no display name and no $DISPLAY environment variable"
     ]
    }
   ],
   "source": [
    "import turtle\n",
    "wn = turtle.Screen()\n",
    "wn.bgcolor(\"lightgreen\")\n",
    "tess = turtle.Turtle()\n",
    "tess.shape(\"turtle\")\n",
    "tess.color(\"blue\")\n",
    "\n",
    "tess.penup() # This is new\n",
    "size = 20\n",
    "for i in range(30):\n",
    "    tess.stamp() # Leave an impression on the canvas\n",
    "    size = size + 3 # Incrase the size on every iteration\n",
    "    tess.forward(size) # Move tess long\n",
    "    tess.right(24) # ... and turn her\n",
    "\n",
    "wn.mainloop()\n",
    "\n"
   ]
  }
 ],
 "metadata": {
  "kernelspec": {
   "display_name": "Python 3",
   "language": "python",
   "name": "python3"
  },
  "language_info": {
   "codemirror_mode": {
    "name": "ipython",
    "version": 3
   },
   "file_extension": ".py",
   "mimetype": "text/x-python",
   "name": "python",
   "nbconvert_exporter": "python",
   "pygments_lexer": "ipython3",
   "version": "3.11.1"
  },
  "orig_nbformat": 4
 },
 "nbformat": 4,
 "nbformat_minor": 2
}
