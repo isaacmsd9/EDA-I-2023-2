{
 "cells": [
  {
   "cell_type": "code",
   "execution_count": null,
   "metadata": {},
   "outputs": [],
   "source": [
    "def lineal_ds():\n",
    "    print(\"stack, queue, list\")\n",
    "\n",
    "output = lineal_ds()\n",
    "output is None"
   ]
  }
 ],
 "metadata": {
  "language_info": {
   "name": "python"
  },
  "orig_nbformat": 4
 },
 "nbformat": 4,
 "nbformat_minor": 2
}
