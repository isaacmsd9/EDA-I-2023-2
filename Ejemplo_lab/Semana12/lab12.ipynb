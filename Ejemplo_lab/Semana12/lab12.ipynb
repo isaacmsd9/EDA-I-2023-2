{
 "cells": [
  {
   "attachments": {},
   "cell_type": "markdown",
   "metadata": {},
   "source": [
    "# Notas\n",
    "\n",
    "S227 Lunes y Miércoles 13-15 horas\n",
    "\n",
    "Lunes 5 de Junio - Tarea téorica 3\n",
    "\n",
    "Miércoles 7 de Junio - 3er parcial - Notas semana 11 y 12\n",
    "\n",
    "Viernes 9 de Junio - Entrega proyecto\n",
    "\n",
    "Lunes 12 de Junio - promedios\n",
    "\n",
    "Miércoles 14 de Junio - 2da vuelta"
   ]
  },
  {
   "cell_type": "code",
   "execution_count": null,
   "metadata": {},
   "outputs": [],
   "source": [
    "import matplotlib.pyplot as plt \n",
    "from mpl_toolkits.mplot3d import Axes3D\n",
    "import random\n",
    "\n",
    "times = 0\n",
    "\n",
    "def insertionSort_graph(n_lista):\n",
    "    global tmes\n",
    "    for index in range(1, len(n_lista)):\n",
    "        times += 1\n",
    "        actual = n_lista(index)\n",
    "        posicion = index\n",
    "        while posicion > 0 and n_lista(posicion-1)>actual:\n",
    "            times += 1\n",
    "            n_lista(posicion) = n_lista(posicion-1)\n",
    "            posicion = posicion-1\n",
    "        n_lista[posicion] = actual\n",
    "    return n_lista\n",
    "\n",
    "TAM = 101\n",
    "eje_x = list(range(1, TAM, 1))\n",
    "eje_y = []\n",
    "lista_variable = []\n",
    "\n",
    "for num in eje_x:\n",
    "    lista_variable = random.sample(range(0 , 1000), num)\n",
    "    times = 0\n",
    "    lista_variable = insertionSort_graph(lista_variable)\n",
    "    eje_y.append(times)\n",
    "\n",
    "fig, ax = plt.subplots(facecolor='w', edgecolor='k')\n",
    "ax.plot(eje_x, eje_y, marker = 'o', color = \"b\", linestyle = 'None')\n",
    "\n",
    "ax.set_xlabel('x')\n",
    "ax.set_ylabel('y')\n",
    "ax.grid(True)\n",
    "ax.legend([\"Insertion sort\"])\n",
    "\n",
    "plt.title(\"Insertion sort\")\n",
    "plt.show()\n",
    "\n"
   ]
  }
 ],
 "metadata": {
  "language_info": {
   "name": "python"
  },
  "orig_nbformat": 4
 },
 "nbformat": 4,
 "nbformat_minor": 2
}
