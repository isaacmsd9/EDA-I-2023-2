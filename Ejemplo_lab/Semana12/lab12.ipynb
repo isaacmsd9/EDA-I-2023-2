{
 "cells": [
  {
   "attachments": {},
   "cell_type": "markdown",
   "metadata": {},
   "source": [
    "# Notas\n",
    "\n",
    "S227 Lunes y Miércoles 13-15 horas\n",
    "\n",
    "Lunes 5 de Junio - Tarea téorica 3\n",
    "\n",
    "Miércoles 7 de Junio - 3er parcial - Notas semana 11 y 12\n",
    "\n",
    "Viernes 9 de Junio - Entrega proyecto\n",
    "\n",
    "Lunes 12 de Junio - promedios\n",
    "\n",
    "Miércoles 14 de Junio - 2da vuelta"
   ]
  },
  {
   "cell_type": "code",
   "execution_count": null,
   "metadata": {},
   "outputs": [],
   "source": []
  }
 ],
 "metadata": {
  "language_info": {
   "name": "python"
  },
  "orig_nbformat": 4
 },
 "nbformat": 4,
 "nbformat_minor": 2
}
