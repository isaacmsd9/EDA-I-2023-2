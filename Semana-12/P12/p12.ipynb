{
 "cells": [
  {
   "cell_type": "code",
   "execution_count": 1,
   "metadata": {},
   "outputs": [
    {
     "name": "stdout",
     "output_type": "stream",
     "text": [
      "%pylab is deprecated, use %matplotlib inline and import the required libraries.\n",
      "Populating the interactive namespace from numpy and matplotlib\n"
     ]
    }
   ],
   "source": [
    "%pylab inline"
   ]
  },
  {
   "cell_type": "code",
   "execution_count": null,
   "metadata": {},
   "outputs": [],
   "source": [
    "import random\n",
    "import time\n",
    "import matplotlib.pyplot as plt\n",
    "\n",
    "# Funciones de ordenamiento\n",
    "def quick_sort(arr):\n",
    "    # Código para quick sort\n",
    "    pass\n",
    "\n",
    "def merge_sort(arr):\n",
    "    # Código para merge sort\n",
    "    pass\n",
    "\n",
    "# Generar datos aleatorios\n",
    "n = 10\n",
    "arr = [random.randint(1, 100) for _ in range(n)]\n",
    "\n",
    "# Mostrar datos desordenados\n",
    "print('Datos desordenados:', arr)\n",
    "\n",
    "# Ordenar datos con QuickSort\n",
    "arr_quick = arr.copy()\n",
    "start = time.time()\n",
    "quick_sort(arr_quick)\n",
    "quick_time = time.time() - start\n",
    "\n",
    "# Ordenar datos con MergeSort\n",
    "arr_merge = arr.copy()\n",
    "start = time.time()\n",
    "merge_sort(arr_merge)\n",
    "merge_time = time.time() - start\n",
    "\n",
    "# Mostrar datos ordenados\n",
    "print('Datos ordenados con QuickSort:', arr_quick)\n",
    "print('Datos ordenados con MergeSort:', arr_merge)\n",
    "\n",
    "# Mostrar gráficamente el cálculo de rendimiento\n",
    "plt.bar(['Quick Sort', 'Merge Sort'], [quick_time, merge_time])\n",
    "plt.ylabel('Tiempo de ejecución (segundos)')\n",
    "plt.show()\n"
   ]
  }
 ],
 "metadata": {
  "kernelspec": {
   "display_name": "Python 3",
   "language": "python",
   "name": "python3"
  },
  "language_info": {
   "codemirror_mode": {
    "name": "ipython",
    "version": 3
   },
   "file_extension": ".py",
   "mimetype": "text/x-python",
   "name": "python",
   "nbconvert_exporter": "python",
   "pygments_lexer": "ipython3",
   "version": "3.11.1"
  },
  "orig_nbformat": 4
 },
 "nbformat": 4,
 "nbformat_minor": 2
}
