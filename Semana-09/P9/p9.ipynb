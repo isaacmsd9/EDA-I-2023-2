{
 "cells": [
  {
   "attachments": {},
   "cell_type": "markdown",
   "metadata": {},
   "source": [
    "# Guía práctica de estudio 09: \n",
    "\n",
    "# Introducción al lenguaje de programación Python.\n",
    "\n",
    "## variables y tipos\n",
    "\n",
    "* Los nombres de las variables son alfanuméricos (a-z, A-Z, 0-9) y empiezan con una letra en minúscula.\n",
    "* No se especifica el tipo de valor que una varible contiene, está implícito al momento de asignar un valor.\n",
    "* No se necesita poner ; al final de cada instrucción.\n",
    "* Mantener las indentaciones al momento de escribir código.\n",
    "\n",
    "### Nombres reservados en Python\n",
    "\n",
    "and, as, assert, break, class, continue, def, del, elif, else, except, exec, finally, for, from,\n",
    "global, if, import, in, is, lambda, not, or, pass, print, raise, return, try, while, with, yield."
   ]
  },
  {
   "cell_type": "code",
   "execution_count": 1,
   "metadata": {},
   "outputs": [
    {
     "name": "stdout",
     "output_type": "stream",
     "text": [
      "10\n",
      "Hola Mundo\n"
     ]
    }
   ],
   "source": [
    "#Inicializando variables \n",
    "x = 10 #variable de tipo entero \n",
    "print(x) #funciona para  imprimir los valores de las variables \n",
    "\n",
    "#se puede utilizar comillas dobles o simples para crear una cadena \n",
    "cadena = \"Hola Mundo\" #variable de tipo cadena \n",
    "print(cadena)"
   ]
  }
 ],
 "metadata": {
  "kernelspec": {
   "display_name": "Python 3",
   "language": "python",
   "name": "python3"
  },
  "language_info": {
   "codemirror_mode": {
    "name": "ipython",
    "version": 3
   },
   "file_extension": ".py",
   "mimetype": "text/x-python",
   "name": "python",
   "nbconvert_exporter": "python",
   "pygments_lexer": "ipython3",
   "version": "3.11.1"
  },
  "orig_nbformat": 4
 },
 "nbformat": 4,
 "nbformat_minor": 2
}
